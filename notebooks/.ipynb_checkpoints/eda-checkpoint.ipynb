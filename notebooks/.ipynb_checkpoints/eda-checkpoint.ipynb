{
 "cells": [
  {
   "cell_type": "code",
   "execution_count": 61,
   "id": "e763ee0f",
   "metadata": {},
   "outputs": [],
   "source": [
    "import numpy as np\n",
    "import pandas as pd"
   ]
  },
  {
   "cell_type": "markdown",
   "id": "d449d365",
   "metadata": {},
   "source": [
    "# Initial exploration"
   ]
  },
  {
   "cell_type": "code",
   "execution_count": 62,
   "id": "ac5eedf2",
   "metadata": {},
   "outputs": [],
   "source": [
    "df = pd.read_csv(\"../data/WA_Fn-UseC_-Telco-Customer-Churn.csv\")"
   ]
  },
  {
   "cell_type": "code",
   "execution_count": 63,
   "id": "fad65065",
   "metadata": {},
   "outputs": [
    {
     "data": {
      "text/plain": [
       "customerID          0\n",
       "gender              0\n",
       "SeniorCitizen       0\n",
       "Partner             0\n",
       "Dependents          0\n",
       "tenure              0\n",
       "PhoneService        0\n",
       "MultipleLines       0\n",
       "InternetService     0\n",
       "OnlineSecurity      0\n",
       "OnlineBackup        0\n",
       "DeviceProtection    0\n",
       "TechSupport         0\n",
       "StreamingTV         0\n",
       "StreamingMovies     0\n",
       "Contract            0\n",
       "PaperlessBilling    0\n",
       "PaymentMethod       0\n",
       "MonthlyCharges      0\n",
       "TotalCharges        0\n",
       "Churn               0\n",
       "dtype: int64"
      ]
     },
     "execution_count": 63,
     "metadata": {},
     "output_type": "execute_result"
    }
   ],
   "source": [
    "df.isnull().sum()"
   ]
  },
  {
   "cell_type": "code",
   "execution_count": 64,
   "id": "762e13a0",
   "metadata": {},
   "outputs": [],
   "source": [
    "df.drop(\"customerID\", axis = 1, inplace = True)"
   ]
  },
  {
   "cell_type": "code",
   "execution_count": 65,
   "id": "5aa5239f",
   "metadata": {},
   "outputs": [
    {
     "name": "stdout",
     "output_type": "stream",
     "text": [
      "['Female' 'Male']\n"
     ]
    }
   ],
   "source": [
    "print(df['gender'].unique())"
   ]
  },
  {
   "cell_type": "code",
   "execution_count": 66,
   "id": "4ec5343a",
   "metadata": {},
   "outputs": [
    {
     "name": "stdout",
     "output_type": "stream",
     "text": [
      "gender: ['Female' 'Male'] ... (2 unique values)\n",
      "SeniorCitizen: [0 1] ... (2 unique values)\n",
      "Partner: ['Yes' 'No'] ... (2 unique values)\n",
      "Dependents: ['No' 'Yes'] ... (2 unique values)\n",
      "tenure: [ 1 34  2 45  8 22 10 28 62 13] ... (73 unique values)\n",
      "PhoneService: ['No' 'Yes'] ... (2 unique values)\n",
      "MultipleLines: ['No phone service' 'No' 'Yes'] ... (3 unique values)\n",
      "InternetService: ['DSL' 'Fiber optic' 'No'] ... (3 unique values)\n",
      "OnlineSecurity: ['No' 'Yes' 'No internet service'] ... (3 unique values)\n",
      "OnlineBackup: ['Yes' 'No' 'No internet service'] ... (3 unique values)\n",
      "DeviceProtection: ['No' 'Yes' 'No internet service'] ... (3 unique values)\n",
      "TechSupport: ['No' 'Yes' 'No internet service'] ... (3 unique values)\n",
      "StreamingTV: ['No' 'Yes' 'No internet service'] ... (3 unique values)\n",
      "StreamingMovies: ['No' 'Yes' 'No internet service'] ... (3 unique values)\n",
      "Contract: ['Month-to-month' 'One year' 'Two year'] ... (3 unique values)\n",
      "PaperlessBilling: ['Yes' 'No'] ... (2 unique values)\n",
      "PaymentMethod: ['Electronic check' 'Mailed check' 'Bank transfer (automatic)'\n",
      " 'Credit card (automatic)'] ... (4 unique values)\n",
      "MonthlyCharges: [ 29.85  56.95  53.85  42.3   70.7   99.65  89.1   29.75 104.8   56.15] ... (1585 unique values)\n",
      "TotalCharges: ['29.85' '1889.5' '108.15' '1840.75' '151.65' '820.5' '1949.4' '301.9'\n",
      " '3046.05' '3487.95'] ... (6531 unique values)\n",
      "Churn: ['No' 'Yes'] ... (2 unique values)\n"
     ]
    }
   ],
   "source": [
    "#printing the unique values of each column\n",
    "for col in df.columns:\n",
    "    print(f\"{col}: {df[col].unique()[:10]} ... ({df[col].nunique()} unique values)\")"
   ]
  },
  {
   "cell_type": "markdown",
   "id": "fc863f84",
   "metadata": {},
   "source": [
    "# Encoding features"
   ]
  },
  {
   "cell_type": "code",
   "execution_count": 67,
   "id": "2dc72fa1",
   "metadata": {},
   "outputs": [
    {
     "data": {
      "text/plain": [
       "dtype('float64')"
      ]
     },
     "execution_count": 67,
     "metadata": {},
     "output_type": "execute_result"
    }
   ],
   "source": [
    "df[\"MonthlyCharges\"].dtype"
   ]
  },
  {
   "cell_type": "code",
   "execution_count": 68,
   "id": "807bf011",
   "metadata": {},
   "outputs": [],
   "source": [
    "df['TotalCharges'] = pd.to_numeric(df['TotalCharges'], errors='coerce')\n",
    "df[\"Churn\"] = df[\"Churn\"].map({\"Yes\": 1, \"No\": 0})\n",
    "df[\"Dependents\"] = df[\"Dependents\"].map({\"Yes\": 1, \"No\": 0})"
   ]
  },
  {
   "cell_type": "code",
   "execution_count": 69,
   "id": "0452523f",
   "metadata": {},
   "outputs": [],
   "source": [
    "binary_service_map = {\n",
    "    'Yes': 1,\n",
    "    'No': 0,\n",
    "    'No phone service': -1,\n",
    "    'No internet service': -1\n",
    "}\n",
    "\n",
    "mapped_columns = [\n",
    "    'MultipleLines',\n",
    "    'OnlineSecurity',\n",
    "    'OnlineBackup',\n",
    "    'DeviceProtection',\n",
    "    'TechSupport',\n",
    "    'StreamingTV',\n",
    "    'StreamingMovies'\n",
    "]\n",
    "\n",
    "# Apply the custom mapping\n",
    "for col in mapped_columns:\n",
    "    df[col] = df[col].map(binary_service_map)\n",
    "\n",
    "# One-hot encode 'InternetService' and 'Contract'\n",
    "df = pd.get_dummies(df, columns=['InternetService', 'Contract'], drop_first=True)\n"
   ]
  },
  {
   "cell_type": "code",
   "execution_count": 70,
   "id": "666c55db",
   "metadata": {},
   "outputs": [],
   "source": [
    "#one hot enoding the PaymentMethod feature\n",
    "df = pd.get_dummies(df, columns=['PaymentMethod'], drop_first=False)"
   ]
  },
  {
   "cell_type": "markdown",
   "id": "f8dab83c",
   "metadata": {},
   "source": [
    "# Final check"
   ]
  },
  {
   "cell_type": "code",
   "execution_count": 71,
   "id": "85ccc6b5",
   "metadata": {},
   "outputs": [
    {
     "name": "stdout",
     "output_type": "stream",
     "text": [
      "gender: ['Female' 'Male'] ... (2 unique values)\n",
      "SeniorCitizen: [0 1] ... (2 unique values)\n",
      "Partner: ['Yes' 'No'] ... (2 unique values)\n",
      "Dependents: [0 1] ... (2 unique values)\n",
      "tenure: [ 1 34  2 45  8 22 10 28 62 13] ... (73 unique values)\n",
      "PhoneService: ['No' 'Yes'] ... (2 unique values)\n",
      "MultipleLines: [-1  0  1] ... (3 unique values)\n",
      "OnlineSecurity: [ 0  1 -1] ... (3 unique values)\n",
      "OnlineBackup: [ 1  0 -1] ... (3 unique values)\n",
      "DeviceProtection: [ 0  1 -1] ... (3 unique values)\n",
      "TechSupport: [ 0  1 -1] ... (3 unique values)\n",
      "StreamingTV: [ 0  1 -1] ... (3 unique values)\n",
      "StreamingMovies: [ 0  1 -1] ... (3 unique values)\n",
      "PaperlessBilling: ['Yes' 'No'] ... (2 unique values)\n",
      "MonthlyCharges: [ 29.85  56.95  53.85  42.3   70.7   99.65  89.1   29.75 104.8   56.15] ... (1585 unique values)\n",
      "TotalCharges: [  29.85 1889.5   108.15 1840.75  151.65  820.5  1949.4   301.9  3046.05\n",
      " 3487.95] ... (6530 unique values)\n",
      "Churn: [0 1] ... (2 unique values)\n",
      "InternetService_Fiber optic: [0 1] ... (2 unique values)\n",
      "InternetService_No: [0 1] ... (2 unique values)\n",
      "Contract_One year: [0 1] ... (2 unique values)\n",
      "Contract_Two year: [0 1] ... (2 unique values)\n",
      "PaymentMethod_Bank transfer (automatic): [0 1] ... (2 unique values)\n",
      "PaymentMethod_Credit card (automatic): [0 1] ... (2 unique values)\n",
      "PaymentMethod_Electronic check: [1 0] ... (2 unique values)\n",
      "PaymentMethod_Mailed check: [0 1] ... (2 unique values)\n"
     ]
    }
   ],
   "source": [
    "for col in df.columns:\n",
    "    print(f\"{col}: {df[col].unique()[:10]} ... ({df[col].nunique()} unique values)\")"
   ]
  }
 ],
 "metadata": {
  "kernelspec": {
   "display_name": "Python 3 (ipykernel)",
   "language": "python",
   "name": "python3"
  },
  "language_info": {
   "codemirror_mode": {
    "name": "ipython",
    "version": 3
   },
   "file_extension": ".py",
   "mimetype": "text/x-python",
   "name": "python",
   "nbconvert_exporter": "python",
   "pygments_lexer": "ipython3",
   "version": "3.9.13"
  }
 },
 "nbformat": 4,
 "nbformat_minor": 5
}
